{
 "cells": [
  {
   "cell_type": "code",
   "execution_count": 24,
   "metadata": {},
   "outputs": [],
   "source": [
    "#NPS NET PROMOTER SCORE\n",
    "import pandas as pd "
   ]
  },
  {
   "cell_type": "code",
   "execution_count": 25,
   "metadata": {},
   "outputs": [],
   "source": [
    "dado = pd.read_csv('feedback.csv', sep=';')\n",
    "notas = dado['nota']"
   ]
  },
  {
   "cell_type": "code",
   "execution_count": 26,
   "metadata": {},
   "outputs": [],
   "source": [
    "class Feedbacks:\n",
    "    def __init__(self, nota, comentarios):\n",
    "        self.nota = nota\n",
    "        self.comentarios = comentarios\n",
    "\n",
    "class AnalisandorFeedback:\n",
    "    def  __init__(self, feedbacks):\n",
    "        self.feedbacks = feedbacks\n",
    "\n",
    "\n",
    "    def calcular_nps(self):\n",
    "        detratores = sum([1 for feedback in self.feedbacks if feedback.nota if feedback.nota <= 6])\n",
    "        promotores = sum([1 for feedback in self.feedbacks if feedback.nota >= 9])\n",
    "\n",
    "        return (promotores - detratores) / len(self.feedbacks)* 100\n",
    "        "
   ]
  },
  {
   "cell_type": "code",
   "execution_count": 28,
   "metadata": {},
   "outputs": [
    {
     "name": "stdout",
     "output_type": "stream",
     "text": [
      "-30.0\n"
     ]
    }
   ],
   "source": [
    "feedbacks = [Feedbacks(linha['nota'], linha['comentarios']) for i, linha in dado.iterrows()]\n",
    "analisador = AnalisandorFeedback(feedbacks)\n",
    "nps = analisador.calcular_nps()\n",
    "print(nps)"
   ]
  },
  {
   "cell_type": "code",
   "execution_count": null,
   "metadata": {},
   "outputs": [],
   "source": []
  }
 ],
 "metadata": {
  "kernelspec": {
   "display_name": "base",
   "language": "python",
   "name": "python3"
  },
  "language_info": {
   "codemirror_mode": {
    "name": "ipython",
    "version": 3
   },
   "file_extension": ".py",
   "mimetype": "text/x-python",
   "name": "python",
   "nbconvert_exporter": "python",
   "pygments_lexer": "ipython3",
   "version": "3.10.9"
  },
  "orig_nbformat": 4
 },
 "nbformat": 4,
 "nbformat_minor": 2
}
